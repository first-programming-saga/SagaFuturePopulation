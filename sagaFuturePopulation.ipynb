{
 "cells": [
  {
   "cell_type": "code",
   "execution_count": null,
   "metadata": {},
   "outputs": [],
   "source": [
    "import pandas\n",
    "import matplotlib.pyplot as plt\n",
    "import japanize_matplotlib"
   ]
  },
  {
   "cell_type": "code",
   "execution_count": null,
   "metadata": {},
   "outputs": [],
   "source": [
    "def getData(url:str, h:int, s = 0) -> pandas.DataFrame:\n",
    "    with pandas.ExcelFile(url) as f:\n",
    "        df = pandas.read_excel(f, header = h, sheet_name = s, \n",
    "            index_col = 0, nrows = 19, skiprows = [h + 1])\n",
    "    df.index.name = '年齢層'\n",
    "    return df"
   ]
  },
  {
   "cell_type": "code",
   "execution_count": null,
   "metadata": {},
   "outputs": [],
   "source": [
    "def plotPopulation(year:int, \n",
    "    dataMale:pandas.DataFrame, dataFemale:pandas.DataFrame):\n",
    "    \"\"\"\n",
    "    指定した年の人口予想を作図する\n",
    "    \"\"\"\n",
    "    ystr = f'{year}年'\n",
    "    male = dataMale[ystr]\n",
    "    female = dataFemale[ystr] * (-1)\n",
    "    male.plot.barh()\n",
    "    female.plot.barh(color = 'red')\n",
    "    plt.plot([0, 0], [-1, len(male.index)], color = 'black')"
   ]
  },
  {
   "cell_type": "code",
   "execution_count": null,
   "metadata": {},
   "outputs": [],
   "source": [
    "def plotPrepare(year:int):\n",
    "    \"\"\"\n",
    "    作図準備\n",
    "    \"\"\"\n",
    "    plt.figure(figsize = (15, 10), facecolor = 'w')\n",
    "    plt.rcParams['font.size'] = 14\n",
    "    plt.rcParams['mathtext.fontset'] = 'cm'\n",
    "    plt.rcParams['mathtext.default'] = 'it'\n",
    "    plt.title(f'佐賀県人口構成予想({year})')\n",
    "    #横軸の設定\n",
    "    xmax = 40000\n",
    "    xtic = 10000\n",
    "    plt.xlim(- xmax, xmax)\n",
    "    xt = [x for x in range(- xmax, xmax + 1, xtic)]\n",
    "    #左側にも正の数字を書くためのラベル\n",
    "    xl = [abs(x) for x in range(- xmax, xmax + 1, xtic)]\n",
    "    plt.xticks(xt, xl)\n",
    "    plt.xlabel('人')\n",
    "    \n",
    "    plt.text(- xmax + xtic, 18, '女性', ha = 'center')\n",
    "    plt.text(xmax - xtic, 18, '男性', ha = 'center')"
   ]
  },
  {
   "cell_type": "code",
   "execution_count": null,
   "metadata": {},
   "outputs": [],
   "source": [
    "url = 'https://www.ipss.go.jp/pp-shicyoson/j/'\\\n",
    "    +'shicyoson18/3kekka/Municipalities/41.xls'\n",
    "dataMale = getData(url,30)\n",
    "dataFemale = getData(url, 57)\n",
    "year = 2025\n",
    "plotPrepare(year)\n",
    "plotPopulation(year, dataMale, dataFemale)\n",
    "plt.savefig('sagaFuturePopulation.pdf')\n",
    "plt.show()\n"
   ]
  }
 ],
 "metadata": {
  "interpreter": {
   "hash": "5b50574aca822a4663eeb358827631e5cbe081f130521b0066dec6b864ef6f2f"
  },
  "kernelspec": {
   "display_name": "Python 3.9.7 64-bit ('myenv': conda)",
   "language": "python",
   "name": "python3"
  },
  "language_info": {
   "codemirror_mode": {
    "name": "ipython",
    "version": 3
   },
   "file_extension": ".py",
   "mimetype": "text/x-python",
   "name": "python",
   "nbconvert_exporter": "python",
   "pygments_lexer": "ipython3",
   "version": "3.9.9"
  },
  "orig_nbformat": 4
 },
 "nbformat": 4,
 "nbformat_minor": 2
}
