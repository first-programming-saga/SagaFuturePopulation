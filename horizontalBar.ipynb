{
 "cells": [
  {
   "cell_type": "code",
   "execution_count": null,
   "metadata": {},
   "outputs": [],
   "source": [
    "import pandas\n",
    "import matplotlib.pyplot as plt\n",
    "import japanize_matplotlib"
   ]
  },
  {
   "cell_type": "markdown",
   "metadata": {},
   "source": [
    "# 水平方向の棒グラフの作成"
   ]
  },
  {
   "cell_type": "code",
   "execution_count": null,
   "metadata": {},
   "outputs": [],
   "source": [
    "def createData(year:int) -> pandas.Series:\n",
    "    \"\"\"\n",
    "    指定した年に相当する列のデータを返す\n",
    "    \"\"\"\n",
    "    with pandas.ExcelFile('KyushuPopulation.xlsx') as f:\n",
    "        originalData = pandas.read_excel(f, index_col = 0)\n",
    "    return originalData[year]"
   ]
  },
  {
   "cell_type": "code",
   "execution_count": null,
   "metadata": {},
   "outputs": [],
   "source": [
    "ser = createData(2015)\n",
    "ser2 = createData(1990) * (-1)\n",
    "#作図の準備\n",
    "plt.figure(figsize = (15, 10), facecolor = 'w')\n",
    "plt.rcParams['font.size'] = 28\n",
    "plt.rcParams['mathtext.fontset'] = 'cm'\n",
    "plt.rcParams['mathtext.default'] = 'it'\n",
    "xmax = 6000\n",
    "dx = 2000\n",
    "plt.xlim(- xmax, xmax)\n",
    "plt.xlabel('千人')\n",
    "#0を中心に、左右にxmaxまの座標軸\n",
    "#左側にも正の値を表示\n",
    "plt.xticks([x for x in range(- xmax, xmax + 1, dx)], \n",
    "    [abs(x) for x in range(- xmax, xmax + 1, dx)])\n",
    "#作図\n",
    "ser.plot.barh()\n",
    "ser2.plot.barh(color = 'red')\n",
    "plt.text(5000, 5, '2015', ha = 'center')\n",
    "plt.text(-5000, 5, '1990', ha = 'center')\n",
    "plt.plot([0, 0], [-1, len(ser)], c = 'black')\n",
    "plt.show()\n"
   ]
  }
 ],
 "metadata": {
  "interpreter": {
   "hash": "5b50574aca822a4663eeb358827631e5cbe081f130521b0066dec6b864ef6f2f"
  },
  "kernelspec": {
   "display_name": "Python 3.9.7 64-bit ('myenv': conda)",
   "language": "python",
   "name": "python3"
  },
  "language_info": {
   "codemirror_mode": {
    "name": "ipython",
    "version": 3
   },
   "file_extension": ".py",
   "mimetype": "text/x-python",
   "name": "python",
   "nbconvert_exporter": "python",
   "pygments_lexer": "ipython3",
   "version": "3.9.9"
  },
  "orig_nbformat": 4
 },
 "nbformat": 4,
 "nbformat_minor": 2
}
