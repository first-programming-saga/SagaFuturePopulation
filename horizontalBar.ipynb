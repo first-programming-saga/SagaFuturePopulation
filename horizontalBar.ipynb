{
 "cells": [
  {
   "cell_type": "code",
   "execution_count": null,
   "metadata": {},
   "outputs": [],
   "source": [
    "import pandas\n",
    "import matplotlib.pyplot as plt\n",
    "import japanize_matplotlib"
   ]
  },
  {
   "cell_type": "code",
   "execution_count": null,
   "metadata": {},
   "outputs": [],
   "source": [
    "plt.rcParams['font.size'] = 28\n",
    "plt.rcParams['mathtext.fontset'] = 'cm'\n",
    "plt.rcParams['mathtext.default'] = 'it'"
   ]
  },
  {
   "attachments": {},
   "cell_type": "markdown",
   "metadata": {},
   "source": [
    "# 水平方向の棒グラフの作成"
   ]
  },
  {
   "cell_type": "code",
   "execution_count": null,
   "metadata": {},
   "outputs": [],
   "source": [
    "def createData(year:int) -> pandas.Series:\n",
    "    \"\"\"\n",
    "    指定した年に相当する列のデータを返す\n",
    "    \"\"\"\n",
    "    with pandas.ExcelFile('KyushuPopulation.xlsx') as f:\n",
    "        originalData = pandas.read_excel(f, index_col = 0)\n",
    "    return originalData[year]"
   ]
  },
  {
   "cell_type": "code",
   "execution_count": null,
   "metadata": {},
   "outputs": [],
   "source": [
    "ser :pandas.Series = createData(2015)\n",
    "ser2 :pandas.Series= createData(1990) * (-1)\n",
    "#作図の準備\n",
    "fig, ax = plt.subplots(figsize = (15, 10), facecolor = 'w')\n",
    "xmax = 6000\n",
    "dx = 2000\n",
    "ax.set_xlim(- xmax, xmax)\n",
    "ax.set_xlabel('千人')\n",
    "#0を中心に、左右にxmaxまでの座標軸\n",
    "#左側にも正の値を表示\n",
    "xticks = [x for x in range(- xmax, xmax + 1, dx)]\n",
    "ax.set_xticks(xticks)\n",
    "xlabels=[str(abs(x)) for x in xticks]\n",
    "ax.set_xticklabels(xlabels)\n",
    "ser.plot.barh(ax = ax)\n",
    "ser2.plot.barh(ax = ax, color = 'red')\n",
    "ax.text(5000, 5, '2015', ha = 'center')\n",
    "ax.text(-5000, 5, '1990', ha = 'center')\n",
    "ax.plot([0, 0], [-1, len(ser)], c = 'black')\n",
    "plt.show()\n"
   ]
  }
 ],
 "metadata": {
  "interpreter": {
   "hash": "5b50574aca822a4663eeb358827631e5cbe081f130521b0066dec6b864ef6f2f"
  },
  "kernelspec": {
   "display_name": "Python 3.9.7 64-bit ('myenv': conda)",
   "language": "python",
   "name": "python3"
  },
  "language_info": {
   "codemirror_mode": {
    "name": "ipython",
    "version": 3
   },
   "file_extension": ".py",
   "mimetype": "text/x-python",
   "name": "python",
   "nbconvert_exporter": "python",
   "pygments_lexer": "ipython3",
   "version": "3.10.8"
  },
  "orig_nbformat": 4
 },
 "nbformat": 4,
 "nbformat_minor": 2
}
