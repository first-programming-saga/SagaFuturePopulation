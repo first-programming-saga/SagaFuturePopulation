{
 "cells": [
  {
   "cell_type": "code",
   "execution_count": null,
   "metadata": {},
   "outputs": [],
   "source": [
    "import pandas\n",
    "import matplotlib.pyplot as plt\n",
    "import japanize_matplotlib"
   ]
  },
  {
   "cell_type": "code",
   "execution_count": null,
   "metadata": {},
   "outputs": [],
   "source": [
    "plt.rcParams['font.size'] = 14\n",
    "plt.rcParams['mathtext.fontset'] = 'cm'\n",
    "plt.rcParams['mathtext.default'] = 'it'\n"
   ]
  },
  {
   "cell_type": "code",
   "execution_count": null,
   "metadata": {},
   "outputs": [],
   "source": [
    "sheets = ['佐賀県', '佐賀市', '唐津市', '鳥栖市', '多久市', '伊万里市', '武雄市', '鹿島市',\n",
    "     '小城市', '嬉野市', '神埼市', '吉野ヶ里町', '基山町', '上峰町', 'みやき町', '玄海町',\n",
    "     '有田町', '大町町', '江北町', '白石町', '太良町']"
   ]
  },
  {
   "cell_type": "code",
   "execution_count": null,
   "metadata": {},
   "outputs": [],
   "source": [
    "def getData(url:str, h:int, city:str) -> pandas.DataFrame:\n",
    "    s = sheets.index(city)\n",
    "    with pandas.ExcelFile(url) as f:\n",
    "        df = pandas.read_excel(f, header = h, sheet_name = s, \n",
    "            index_col = 0, nrows = 19, skiprows = [h + 1])\n",
    "    df.index.name = '年齢層'\n",
    "    return df"
   ]
  },
  {
   "cell_type": "code",
   "execution_count": null,
   "metadata": {},
   "outputs": [],
   "source": [
    "def plotPopulation(year:int, \n",
    "    dataMale:pandas.DataFrame, dataFemale:pandas.DataFrame, ax:plt.Axes):\n",
    "    \"\"\"\n",
    "    指定した年の人口予想を作図する\n",
    "    \"\"\"\n",
    "    ystr = f'{year}年'\n",
    "    male = dataMale[ystr]\n",
    "    female = dataFemale[ystr] * (-1)\n",
    "    male.plot.barh(ax = ax)\n",
    "    female.plot.barh(ax = ax, color = 'red')\n",
    "    ax.plot([0, 0], [-1, len(male.index)], color = 'black')"
   ]
  },
  {
   "cell_type": "code",
   "execution_count": null,
   "metadata": {},
   "outputs": [],
   "source": [
    "def plotPrepare(year:int,city:str) -> plt.Axes:\n",
    "    \"\"\"\n",
    "    作図準備\n",
    "    \"\"\"\n",
    "    fig, ax = plt.subplots(figsize = (15, 10), facecolor = 'w')\n",
    "    ax.title(f'{city}人口構成予想({year})')\n",
    "    #横軸の設定\n",
    "    xmax = 40000\n",
    "    xtic = 10000\n",
    "    ax.set_xlim(- xmax, xmax)\n",
    "    xt = [x for x in range(- xmax, xmax + 1, xtic)]\n",
    "    #左側にも正の数字を書くためのラベル\n",
    "    xl = [abs(x) for x in range(- xmax, xmax + 1, xtic)]\n",
    "    ax.set_xticks(xt)\n",
    "    ax.set_xticklabels(xl)\n",
    "    ax.set_xlabel('人')\n",
    "    \n",
    "    ax.text(- xmax + xtic, 18, '女性', ha = 'center')\n",
    "    ax.text(xmax - xtic, 18, '男性', ha = 'center')\n",
    "    return ax"
   ]
  },
  {
   "cell_type": "code",
   "execution_count": null,
   "metadata": {},
   "outputs": [],
   "source": [
    "url = 'https://www.ipss.go.jp/pp-shicyoson/j/'\\\n",
    "    +'shicyoson18/3kekka/Municipalities/41.xls'\n",
    "city = '佐賀市'\n",
    "dataMale :pandas.DataFrame = getData(url,30,city)\n",
    "dataFemale :pandas.DataFrame = getData(url, 57,city)\n",
    "year = 2025\n",
    "ax = plotPrepare(year,city)\n",
    "plotPopulation(year, dataMale, dataFemale, ax)\n",
    "#plt.savefig('sagaFuturePopulation.pdf')\n",
    "plt.show()\n"
   ]
  }
 ],
 "metadata": {
  "interpreter": {
   "hash": "5b50574aca822a4663eeb358827631e5cbe081f130521b0066dec6b864ef6f2f"
  },
  "kernelspec": {
   "display_name": "Python 3.9.7 64-bit ('myenv': conda)",
   "language": "python",
   "name": "python3"
  },
  "language_info": {
   "codemirror_mode": {
    "name": "ipython",
    "version": 3
   },
   "file_extension": ".py",
   "mimetype": "text/x-python",
   "name": "python",
   "nbconvert_exporter": "python",
   "pygments_lexer": "ipython3",
   "version": "3.10.8 | packaged by conda-forge | (main, Nov 22 2022, 08:25:29) [Clang 14.0.6 ]"
  },
  "orig_nbformat": 4
 },
 "nbformat": 4,
 "nbformat_minor": 2
}
